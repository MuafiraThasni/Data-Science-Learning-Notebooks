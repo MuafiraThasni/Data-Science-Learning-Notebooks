{
 "cells": [
  {
   "cell_type": "code",
   "execution_count": 124,
   "id": "dfe63873",
   "metadata": {},
   "outputs": [],
   "source": [
    "import pandas as pd\n",
    "import numpy as np\n",
    "from sklearn.ensemble import RandomForestRegressor,RandomForestClassifier\n",
    "from sklearn.linear_model import LinearRegression,LogisticRegression\n",
    "from sklearn.model_selection import train_test_split\n",
    "# from numpy.random import rand\n",
    "# from numpy.random import seed\n",
    "import random"
   ]
  },
  {
   "cell_type": "code",
   "execution_count": null,
   "id": "f6947504",
   "metadata": {},
   "outputs": [],
   "source": [
    "# Grid Search - Parameters , Random Search - Parameters"
   ]
  },
  {
   "cell_type": "code",
   "execution_count": 125,
   "id": "48c83316",
   "metadata": {},
   "outputs": [],
   "source": [
    "classes = [0,1]\n",
    "np.random.seed(1)\n",
    "x1= np.random.rand(10000)\n",
    "x2= np.random.rand(10000)\n",
    "x3=np.random.rand(10000)\n",
    "x4=np.random.rand(10000)\n",
    "x5=np.random.rand(10000)\n",
    "# y=np.random.rand(10000)\n",
    "# supposed to a categorical 0/1\n",
    "y = [random.choice(classes) for x in range(10000)]\n"
   ]
  },
  {
   "cell_type": "code",
   "execution_count": 126,
   "id": "1dcaad32",
   "metadata": {},
   "outputs": [
    {
     "data": {
      "text/html": [
       "<div>\n",
       "<style scoped>\n",
       "    .dataframe tbody tr th:only-of-type {\n",
       "        vertical-align: middle;\n",
       "    }\n",
       "\n",
       "    .dataframe tbody tr th {\n",
       "        vertical-align: top;\n",
       "    }\n",
       "\n",
       "    .dataframe thead th {\n",
       "        text-align: right;\n",
       "    }\n",
       "</style>\n",
       "<table border=\"1\" class=\"dataframe\">\n",
       "  <thead>\n",
       "    <tr style=\"text-align: right;\">\n",
       "      <th></th>\n",
       "      <th>x1</th>\n",
       "      <th>x2</th>\n",
       "      <th>x3</th>\n",
       "      <th>x4</th>\n",
       "      <th>x5</th>\n",
       "      <th>y</th>\n",
       "    </tr>\n",
       "  </thead>\n",
       "  <tbody>\n",
       "    <tr>\n",
       "      <th>0</th>\n",
       "      <td>0.417022</td>\n",
       "      <td>0.765497</td>\n",
       "      <td>0.805802</td>\n",
       "      <td>0.359340</td>\n",
       "      <td>0.878726</td>\n",
       "      <td>0</td>\n",
       "    </tr>\n",
       "    <tr>\n",
       "      <th>1</th>\n",
       "      <td>0.720324</td>\n",
       "      <td>0.308173</td>\n",
       "      <td>0.541587</td>\n",
       "      <td>0.945030</td>\n",
       "      <td>0.041940</td>\n",
       "      <td>0</td>\n",
       "    </tr>\n",
       "    <tr>\n",
       "      <th>2</th>\n",
       "      <td>0.000114</td>\n",
       "      <td>0.735378</td>\n",
       "      <td>0.878887</td>\n",
       "      <td>0.835340</td>\n",
       "      <td>0.681875</td>\n",
       "      <td>1</td>\n",
       "    </tr>\n",
       "    <tr>\n",
       "      <th>3</th>\n",
       "      <td>0.302333</td>\n",
       "      <td>0.812198</td>\n",
       "      <td>0.947535</td>\n",
       "      <td>0.121024</td>\n",
       "      <td>0.502068</td>\n",
       "      <td>0</td>\n",
       "    </tr>\n",
       "    <tr>\n",
       "      <th>4</th>\n",
       "      <td>0.146756</td>\n",
       "      <td>0.236694</td>\n",
       "      <td>0.832790</td>\n",
       "      <td>0.375893</td>\n",
       "      <td>0.148241</td>\n",
       "      <td>0</td>\n",
       "    </tr>\n",
       "  </tbody>\n",
       "</table>\n",
       "</div>"
      ],
      "text/plain": [
       "         x1        x2        x3        x4        x5  y\n",
       "0  0.417022  0.765497  0.805802  0.359340  0.878726  0\n",
       "1  0.720324  0.308173  0.541587  0.945030  0.041940  0\n",
       "2  0.000114  0.735378  0.878887  0.835340  0.681875  1\n",
       "3  0.302333  0.812198  0.947535  0.121024  0.502068  0\n",
       "4  0.146756  0.236694  0.832790  0.375893  0.148241  0"
      ]
     },
     "execution_count": 126,
     "metadata": {},
     "output_type": "execute_result"
    }
   ],
   "source": [
    "d = dict(x1=x1,x2=x2,x3=x3,x4=x4,x5=x5,y=y)\n",
    "df=pd.DataFrame(d)\n",
    "\n",
    "X=df[['x1','x2','x3','x4','x5']]\n",
    "y=df['y']\n",
    "X_train,X_test,y_train,y_test=train_test_split(X,y,test_size=0.3)\n",
    "df.head()"
   ]
  },
  {
   "cell_type": "code",
   "execution_count": 127,
   "id": "810ee37a",
   "metadata": {},
   "outputs": [
    {
     "name": "stdout",
     "output_type": "stream",
     "text": [
      "[1 0 0 ... 0 1 0]\n"
     ]
    }
   ],
   "source": [
    "model = RandomForestClassifier()\n",
    "model.fit(X_train,y_train)\n",
    "y_pred=model.predict(X_test)\n",
    "print(y_pred)"
   ]
  },
  {
   "cell_type": "code",
   "execution_count": 128,
   "id": "849ba903",
   "metadata": {},
   "outputs": [],
   "source": [
    "from sklearn.metrics import accuracy_score,confusion_matrix,classification_report"
   ]
  },
  {
   "cell_type": "code",
   "execution_count": 129,
   "id": "6f1a7d98",
   "metadata": {},
   "outputs": [
    {
     "data": {
      "text/plain": [
       "0.5056666666666667"
      ]
     },
     "execution_count": 129,
     "metadata": {},
     "output_type": "execute_result"
    }
   ],
   "source": [
    "accuracy = accuracy_score(y_test,y_pred)\n",
    "accuracy"
   ]
  },
  {
   "cell_type": "code",
   "execution_count": 130,
   "id": "8c08a732",
   "metadata": {},
   "outputs": [
    {
     "data": {
      "text/plain": [
       "array([[755, 732],\n",
       "       [751, 762]], dtype=int64)"
      ]
     },
     "execution_count": 130,
     "metadata": {},
     "output_type": "execute_result"
    }
   ],
   "source": [
    "confusion_matrix = confusion_matrix(y_test,y_pred)\n",
    "confusion_matrix\n"
   ]
  },
  {
   "cell_type": "code",
   "execution_count": 131,
   "id": "1765d5a5",
   "metadata": {},
   "outputs": [
    {
     "data": {
      "text/plain": [
       "'              precision    recall  f1-score   support\\n\\n           0       0.50      0.51      0.50      1487\\n           1       0.51      0.50      0.51      1513\\n\\n    accuracy                           0.51      3000\\n   macro avg       0.51      0.51      0.51      3000\\nweighted avg       0.51      0.51      0.51      3000\\n'"
      ]
     },
     "execution_count": 131,
     "metadata": {},
     "output_type": "execute_result"
    }
   ],
   "source": [
    "c_report=classification_report(y_test,y_pred)\n",
    "c_report"
   ]
  },
  {
   "cell_type": "code",
   "execution_count": null,
   "id": "24179701",
   "metadata": {},
   "outputs": [],
   "source": [
    "Table = Models | MSE | R2 = 5 different algorithms for linear regression including LR and RF\n",
    "Table 2 = Models | Accuracy | TP | TN | FP | FN | F1score |Recall | Precision for Logistic Regression = 5 diff models in LogR and RFClassifier"
   ]
  },
  {
   "cell_type": "markdown",
   "id": "f04b1dbc",
   "metadata": {},
   "source": [
    "Actual = 1,Pred =1 = True Positive\n",
    "Actual = 1,Pred = 0 = False Negative\n",
    "Actual = 0, Pred = 1 = False Postive\n",
    "Actual = 0 Pred = 0 = True Negative\n",
    "\n",
    "Confusion matrix\n",
    "F1-Score\n",
    "Accuracy = (TP+TN) / (TP+TN+FP+FN)\n",
    "True Positve Rate = TP/TP+FN\n",
    "False Positive Rate = FP/FP+TN\n",
    "True Negative Rate =TN/TN+FP\n",
    "False Negative = FN/FN+TP\n",
    "\n",
    "Recall = TPR (can be called as Sensitivity)\n",
    "Precision = TP/TP+FP\n",
    "\n",
    "ROC AUC(Area under Curve)"
   ]
  }
 ],
 "metadata": {
  "kernelspec": {
   "display_name": "Python 3",
   "language": "python",
   "name": "python3"
  },
  "language_info": {
   "codemirror_mode": {
    "name": "ipython",
    "version": 3
   },
   "file_extension": ".py",
   "mimetype": "text/x-python",
   "name": "python",
   "nbconvert_exporter": "python",
   "pygments_lexer": "ipython3",
   "version": "3.8.8"
  }
 },
 "nbformat": 4,
 "nbformat_minor": 5
}
