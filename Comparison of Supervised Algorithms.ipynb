{
 "cells": [
  {
   "cell_type": "markdown",
   "id": "4c9751b1",
   "metadata": {},
   "source": [
    "**Comparison of different Supervised Algorithms**\n",
    "\n",
    "A table consisting the model name and it's perforamnce metrics, for both Regression and Classification. For regression, a data frame consisting x1, x2, x3, x4, and x5 as independent variables and y as the target variable is considered as data. This is going to be generated using random number generator rand(). MSE and $R^2$ are calculated for each model. For Classification algorithms, a dataframe with same independent variables and y belongs to [1, 0] is used. Then the performance measures considered are accuracy, precision, f1 score, recall, and AUC ROC. "
   ]
  },
  {
   "cell_type": "markdown",
   "id": "b0ded3ed",
   "metadata": {},
   "source": [
    "*Importing libraries*"
   ]
  },
  {
   "cell_type": "code",
   "execution_count": 438,
   "id": "05230a3e",
   "metadata": {},
   "outputs": [],
   "source": [
    "import pandas as pd\n",
    "import numpy as np\n",
    "\n",
    "from sklearn.linear_model import LinearRegression,Ridge,SGDRegressor\n",
    "from sklearn.ensemble import RandomForestRegressor\n",
    "from sklearn import svm\n",
    "from sklearn.model_selection import train_test_split\n",
    "from sklearn.metrics import mean_squared_error,r2_score"
   ]
  },
  {
   "cell_type": "markdown",
   "id": "854ad8f3",
   "metadata": {},
   "source": [
    "*Data frame construction*"
   ]
  },
  {
   "cell_type": "code",
   "execution_count": 439,
   "id": "2e018407",
   "metadata": {},
   "outputs": [],
   "source": [
    "#help(zip())"
   ]
  },
  {
   "cell_type": "code",
   "execution_count": 440,
   "id": "b2a05166",
   "metadata": {},
   "outputs": [
    {
     "data": {
      "text/html": [
       "<div>\n",
       "<style scoped>\n",
       "    .dataframe tbody tr th:only-of-type {\n",
       "        vertical-align: middle;\n",
       "    }\n",
       "\n",
       "    .dataframe tbody tr th {\n",
       "        vertical-align: top;\n",
       "    }\n",
       "\n",
       "    .dataframe thead th {\n",
       "        text-align: right;\n",
       "    }\n",
       "</style>\n",
       "<table border=\"1\" class=\"dataframe\">\n",
       "  <thead>\n",
       "    <tr style=\"text-align: right;\">\n",
       "      <th></th>\n",
       "      <th>x1</th>\n",
       "      <th>x2</th>\n",
       "      <th>x3</th>\n",
       "      <th>x4</th>\n",
       "      <th>x5</th>\n",
       "      <th>y</th>\n",
       "    </tr>\n",
       "  </thead>\n",
       "  <tbody>\n",
       "    <tr>\n",
       "      <th>0</th>\n",
       "      <td>0.417022</td>\n",
       "      <td>0.765497</td>\n",
       "      <td>0.805802</td>\n",
       "      <td>0.359340</td>\n",
       "      <td>0.878726</td>\n",
       "      <td>0.444760</td>\n",
       "    </tr>\n",
       "    <tr>\n",
       "      <th>1</th>\n",
       "      <td>0.720324</td>\n",
       "      <td>0.308173</td>\n",
       "      <td>0.541587</td>\n",
       "      <td>0.945030</td>\n",
       "      <td>0.041940</td>\n",
       "      <td>0.322635</td>\n",
       "    </tr>\n",
       "    <tr>\n",
       "      <th>2</th>\n",
       "      <td>0.000114</td>\n",
       "      <td>0.735378</td>\n",
       "      <td>0.878887</td>\n",
       "      <td>0.835340</td>\n",
       "      <td>0.681875</td>\n",
       "      <td>0.399898</td>\n",
       "    </tr>\n",
       "    <tr>\n",
       "      <th>3</th>\n",
       "      <td>0.302333</td>\n",
       "      <td>0.812198</td>\n",
       "      <td>0.947535</td>\n",
       "      <td>0.121024</td>\n",
       "      <td>0.502068</td>\n",
       "      <td>0.456847</td>\n",
       "    </tr>\n",
       "    <tr>\n",
       "      <th>4</th>\n",
       "      <td>0.146756</td>\n",
       "      <td>0.236694</td>\n",
       "      <td>0.832790</td>\n",
       "      <td>0.375893</td>\n",
       "      <td>0.148241</td>\n",
       "      <td>0.442715</td>\n",
       "    </tr>\n",
       "  </tbody>\n",
       "</table>\n",
       "</div>"
      ],
      "text/plain": [
       "         x1        x2        x3        x4        x5         y\n",
       "0  0.417022  0.765497  0.805802  0.359340  0.878726  0.444760\n",
       "1  0.720324  0.308173  0.541587  0.945030  0.041940  0.322635\n",
       "2  0.000114  0.735378  0.878887  0.835340  0.681875  0.399898\n",
       "3  0.302333  0.812198  0.947535  0.121024  0.502068  0.456847\n",
       "4  0.146756  0.236694  0.832790  0.375893  0.148241  0.442715"
      ]
     },
     "execution_count": 440,
     "metadata": {},
     "output_type": "execute_result"
    }
   ],
   "source": [
    "x=[]\n",
    "np.random.seed(1)\n",
    "for i in range(6):\n",
    "    x.append(np.random.rand(10000))\n",
    "keys=['x1','x2','x3','x4','x5','y']\n",
    "X_dict = {key: value for key, value in zip(keys, x)}\n",
    "DF=pd.DataFrame(X_dict)\n",
    "DF.head()\n",
    "   \n"
   ]
  },
  {
   "cell_type": "code",
   "execution_count": 441,
   "id": "bb9b8311",
   "metadata": {},
   "outputs": [],
   "source": [
    "#DF.describe()\n",
    "#DF.info()"
   ]
  },
  {
   "cell_type": "markdown",
   "id": "62623fce",
   "metadata": {},
   "source": [
    "*Training Data and Test Data Splitting*\n",
    "For splitting the data into training set and test set, from sklearn.model_selection, train_test_split method can be imported. Test size can be specified by defining test_size. Eg:- test_size=.3 means $30 %$ of the entire data is splitted as test set, and remaining will be training set. "
   ]
  },
  {
   "cell_type": "code",
   "execution_count": 442,
   "id": "dd74e32f",
   "metadata": {},
   "outputs": [],
   "source": [
    "X=DF[['x1','x2','x3','x4','x5']]\n",
    "y=DF['y']\n",
    "X_train,X_test,y_train,y_test=train_test_split(X,y,test_size=.3)"
   ]
  },
  {
   "cell_type": "markdown",
   "id": "d794ee1c",
   "metadata": {},
   "source": [
    "*Modeling* :\n"
   ]
  },
  {
   "cell_type": "code",
   "execution_count": 443,
   "id": "982be68c",
   "metadata": {},
   "outputs": [
    {
     "name": "stdout",
     "output_type": "stream",
     "text": [
      "[0.50928721 0.50961947 0.46903863 ... 0.47310853 0.49252528 0.49367857]\n"
     ]
    }
   ],
   "source": [
    "#model = LinearRegression()\n",
    "#model = RandomForestRegressor()\n",
    "#model = Ridge()\n",
    "#model = svm.SVR()\n",
    "model = SGDRegressor()\n",
    "\n",
    "model.fit(X_train,y_train)         #train or teach the model using training data\n",
    "y_pred = model.predict(X_test)      # predict the future values for the test\n",
    "print(y_pred)\n"
   ]
  },
  {
   "cell_type": "markdown",
   "id": "06c2bfd6",
   "metadata": {},
   "source": [
    "*Performance Metrics*"
   ]
  },
  {
   "cell_type": "code",
   "execution_count": 444,
   "id": "f35ef433",
   "metadata": {},
   "outputs": [],
   "source": [
    "#help(r2_score)"
   ]
  },
  {
   "cell_type": "code",
   "execution_count": 445,
   "id": "a4e95f62",
   "metadata": {},
   "outputs": [
    {
     "name": "stdout",
     "output_type": "stream",
     "text": [
      "MSE =  0.0813194116164882 \n",
      "R2 score =  -0.004040042003218058\n"
     ]
    }
   ],
   "source": [
    "mse = mean_squared_error(y_test,y_pred)\n",
    "R2_score = r2_score(y_test,y_pred)\n",
    "print(\"MSE = \",mse,\"\\nR2 score = \",R2_score)"
   ]
  },
  {
   "cell_type": "markdown",
   "id": "96323783",
   "metadata": {},
   "source": [
    "**Table**"
   ]
  },
  {
   "cell_type": "code",
   "execution_count": 446,
   "id": "30bb425e",
   "metadata": {},
   "outputs": [],
   "source": [
    "\n",
    "#model_df = pd.DataFrame([['Linear Regression',mse,R2_score]],columns=['Model','MSE','R2'])\n",
    "#model_df "
   ]
  },
  {
   "cell_type": "code",
   "execution_count": 447,
   "id": "c38dfeda",
   "metadata": {},
   "outputs": [],
   "source": [
    "# model_df.to_csv('Model Comparison.csv')"
   ]
  },
  {
   "cell_type": "code",
   "execution_count": 448,
   "id": "42c9aae4",
   "metadata": {},
   "outputs": [
    {
     "data": {
      "text/html": [
       "<div>\n",
       "<style scoped>\n",
       "    .dataframe tbody tr th:only-of-type {\n",
       "        vertical-align: middle;\n",
       "    }\n",
       "\n",
       "    .dataframe tbody tr th {\n",
       "        vertical-align: top;\n",
       "    }\n",
       "\n",
       "    .dataframe thead th {\n",
       "        text-align: right;\n",
       "    }\n",
       "</style>\n",
       "<table border=\"1\" class=\"dataframe\">\n",
       "  <thead>\n",
       "    <tr style=\"text-align: right;\">\n",
       "      <th></th>\n",
       "      <th>Model</th>\n",
       "      <th>MSE</th>\n",
       "      <th>R2</th>\n",
       "    </tr>\n",
       "  </thead>\n",
       "  <tbody>\n",
       "    <tr>\n",
       "      <th>0</th>\n",
       "      <td>SGD Regressor</td>\n",
       "      <td>0.081319</td>\n",
       "      <td>-0.004040</td>\n",
       "    </tr>\n",
       "    <tr>\n",
       "      <th>1</th>\n",
       "      <td>Support Vector Machine Regression</td>\n",
       "      <td>0.083872</td>\n",
       "      <td>-0.035552</td>\n",
       "    </tr>\n",
       "    <tr>\n",
       "      <th>2</th>\n",
       "      <td>Ridge Regression</td>\n",
       "      <td>0.081007</td>\n",
       "      <td>-0.000187</td>\n",
       "    </tr>\n",
       "    <tr>\n",
       "      <th>3</th>\n",
       "      <td>Random Forest Regressor</td>\n",
       "      <td>0.084533</td>\n",
       "      <td>-0.043712</td>\n",
       "    </tr>\n",
       "    <tr>\n",
       "      <th>4</th>\n",
       "      <td>Linear Regression</td>\n",
       "      <td>0.081007</td>\n",
       "      <td>-0.000188</td>\n",
       "    </tr>\n",
       "  </tbody>\n",
       "</table>\n",
       "</div>"
      ],
      "text/plain": [
       "                               Model       MSE        R2\n",
       "0                      SGD Regressor  0.081319 -0.004040\n",
       "1  Support Vector Machine Regression  0.083872 -0.035552\n",
       "2                   Ridge Regression  0.081007 -0.000187\n",
       "3            Random Forest Regressor  0.084533 -0.043712\n",
       "4                  Linear Regression  0.081007 -0.000188"
      ]
     },
     "execution_count": 448,
     "metadata": {},
     "output_type": "execute_result"
    }
   ],
   "source": [
    "\n",
    "#model_df.loc[-1] = ['Random Forest Regressor', mse, R2_score] # adding a row\n",
    "#model_df.loc[-1] = ['Ridge Regression', mse, R2_score] \n",
    "#model_df.loc[-1] = ['Support Vector Machine Regression', mse, R2_score] \n",
    "model_df.loc[-1] = ['SGD Regressor', mse, R2_score] \n",
    "model_df.index =model_df.index + 1  # shifting index\n",
    "model_df =model_df.sort_index()  # sorting by index\n",
    "model_df"
   ]
  },
  {
   "cell_type": "code",
   "execution_count": 450,
   "id": "a64f1d6b",
   "metadata": {},
   "outputs": [],
   "source": [
    " model_df.to_csv('Model_Comparison.csv') "
   ]
  }
 ],
 "metadata": {
  "kernelspec": {
   "display_name": "Python 3",
   "language": "python",
   "name": "python3"
  },
  "language_info": {
   "codemirror_mode": {
    "name": "ipython",
    "version": 3
   },
   "file_extension": ".py",
   "mimetype": "text/x-python",
   "name": "python",
   "nbconvert_exporter": "python",
   "pygments_lexer": "ipython3",
   "version": "3.8.8"
  }
 },
 "nbformat": 4,
 "nbformat_minor": 5
}
