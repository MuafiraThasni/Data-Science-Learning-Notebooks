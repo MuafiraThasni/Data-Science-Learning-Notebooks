{
 "cells": [
  {
   "cell_type": "code",
   "execution_count": 20,
   "id": "c81b3d05",
   "metadata": {},
   "outputs": [],
   "source": [
    "import pandas as pd\n",
    "import numpy as np\n",
    "import matplotlib as plt\n",
    "from sklearn.linear_model import LinearRegression\n",
    "from sklearn.ensemble import RandomForestRegressor"
   ]
  },
  {
   "cell_type": "code",
   "execution_count": 4,
   "id": "ba7c462d",
   "metadata": {},
   "outputs": [
    {
     "data": {
      "text/html": [
       "<div>\n",
       "<style scoped>\n",
       "    .dataframe tbody tr th:only-of-type {\n",
       "        vertical-align: middle;\n",
       "    }\n",
       "\n",
       "    .dataframe tbody tr th {\n",
       "        vertical-align: top;\n",
       "    }\n",
       "\n",
       "    .dataframe thead th {\n",
       "        text-align: right;\n",
       "    }\n",
       "</style>\n",
       "<table border=\"1\" class=\"dataframe\">\n",
       "  <thead>\n",
       "    <tr style=\"text-align: right;\">\n",
       "      <th></th>\n",
       "      <th>x</th>\n",
       "      <th>y</th>\n",
       "    </tr>\n",
       "  </thead>\n",
       "  <tbody>\n",
       "    <tr>\n",
       "      <th>0</th>\n",
       "      <td>0.753929</td>\n",
       "      <td>0.048628</td>\n",
       "    </tr>\n",
       "    <tr>\n",
       "      <th>1</th>\n",
       "      <td>0.300164</td>\n",
       "      <td>0.715830</td>\n",
       "    </tr>\n",
       "    <tr>\n",
       "      <th>2</th>\n",
       "      <td>0.644602</td>\n",
       "      <td>0.806687</td>\n",
       "    </tr>\n",
       "    <tr>\n",
       "      <th>3</th>\n",
       "      <td>0.079399</td>\n",
       "      <td>0.482603</td>\n",
       "    </tr>\n",
       "    <tr>\n",
       "      <th>4</th>\n",
       "      <td>0.576573</td>\n",
       "      <td>0.880548</td>\n",
       "    </tr>\n",
       "  </tbody>\n",
       "</table>\n",
       "</div>"
      ],
      "text/plain": [
       "          x         y\n",
       "0  0.753929  0.048628\n",
       "1  0.300164  0.715830\n",
       "2  0.644602  0.806687\n",
       "3  0.079399  0.482603\n",
       "4  0.576573  0.880548"
      ]
     },
     "execution_count": 4,
     "metadata": {},
     "output_type": "execute_result"
    }
   ],
   "source": [
    "df=pd.read_csv('sample.csv')\n",
    "df.head()"
   ]
  },
  {
   "cell_type": "code",
   "execution_count": 18,
   "id": "2a0a787d",
   "metadata": {},
   "outputs": [
    {
     "name": "stdout",
     "output_type": "stream",
     "text": [
      "R2= 0.03358292329840762\n"
     ]
    }
   ],
   "source": [
    "model = LinearRegression()\n",
    "x=df[['x']]\n",
    "y=df[['y']]\n",
    "model.fit(x,y)\n",
    "print(\"R2=\",model.score(x,y))\n",
    "pred =  model.predict(x)\n",
    "df['prediction']=pred\n",
    "df.to_csv('pred_sample.csv')"
   ]
  },
  {
   "cell_type": "markdown",
   "id": "f68e745f",
   "metadata": {},
   "source": [
    "**Random forest regression for same data**\n"
   ]
  },
  {
   "cell_type": "code",
   "execution_count": 46,
   "id": "a27cd3af",
   "metadata": {},
   "outputs": [
    {
     "name": "stdout",
     "output_type": "stream",
     "text": [
      "[0.28977013 0.59940228 0.80573883 0.51341885 0.78019897 0.62030929\n",
      " 0.32383526 0.41664247 0.43655464 0.83234846 0.75405352 0.24596848\n",
      " 0.37235722 0.27943547 0.25439693 0.44296643 0.24945213 0.33118403\n",
      " 0.53184058 0.6310711  0.4226344  0.51462611 0.46376937 0.55709583\n",
      " 0.31202577 0.81845068 0.42735683 0.29483357 0.32471567 0.56057625]\n"
     ]
    },
    {
     "name": "stderr",
     "output_type": "stream",
     "text": [
      "<ipython-input-46-c024c21e7499>:3: DataConversionWarning: A column-vector y was passed when a 1d array was expected. Please change the shape of y to (n_samples,), for example using ravel().\n",
      "  m.fit(x,y)\n"
     ]
    },
    {
     "data": {
      "text/plain": [
       "0.8155866705555904"
      ]
     },
     "execution_count": 46,
     "metadata": {},
     "output_type": "execute_result"
    }
   ],
   "source": [
    "m = RandomForestRegressor()\n",
    "m.n_estimator=500\n",
    "m.fit(x,y)\n",
    "rfr_predict = m.predict(x)\n",
    "print(rfr_predict)\n",
    "R2=m.score(x,y)\n",
    "R2"
   ]
  },
  {
   "cell_type": "code",
   "execution_count": 56,
   "id": "1e23e12d",
   "metadata": {},
   "outputs": [
    {
     "data": {
      "text/plain": [
       "[16, 15, 21, 23, 29]"
      ]
     },
     "execution_count": 56,
     "metadata": {},
     "output_type": "execute_result"
    }
   ],
   "source": [
    "import random\n",
    "r_list=random.sample(range(10,30),5)\n",
    "r_list"
   ]
  },
  {
   "cell_type": "code",
   "execution_count": 68,
   "id": "c902264e",
   "metadata": {},
   "outputs": [
    {
     "name": "stdout",
     "output_type": "stream",
     "text": [
      "a= [4.17022005e-01 7.20324493e-01 1.14374817e-04 3.02332573e-01\n",
      " 1.46755891e-01 9.23385948e-02 1.86260211e-01 3.45560727e-01\n",
      " 3.96767474e-01 5.38816734e-01] \n",
      "\n",
      "b= [0.4359949  0.02592623 0.54966248 0.43532239 0.4203678  0.33033482\n",
      " 0.20464863 0.61927097 0.29965467 0.26682728]\n"
     ]
    }
   ],
   "source": [
    "from numpy import random\n",
    "random.seed(1)\n",
    "a=random.rand(10)\n",
    "random.seed(2)\n",
    "b=random.rand(10)\n",
    "print(\"a=\",a,\"\\n\\nb=\",b)"
   ]
  }
 ],
 "metadata": {
  "kernelspec": {
   "display_name": "Python 3",
   "language": "python",
   "name": "python3"
  },
  "language_info": {
   "codemirror_mode": {
    "name": "ipython",
    "version": 3
   },
   "file_extension": ".py",
   "mimetype": "text/x-python",
   "name": "python",
   "nbconvert_exporter": "python",
   "pygments_lexer": "ipython3",
   "version": "3.8.8"
  }
 },
 "nbformat": 4,
 "nbformat_minor": 5
}
