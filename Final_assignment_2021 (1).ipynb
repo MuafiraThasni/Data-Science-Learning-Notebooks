{
 "cells": [
  {
   "cell_type": "markdown",
   "metadata": {},
   "source": [
    "# Final Take-Home Assignment - Data Analysis and Quantitative trading "
   ]
  },
  {
   "cell_type": "markdown",
   "metadata": {},
   "source": [
    "**This is an individual assignment. It has been solved by:** \n",
    "\n",
    "|     Name       | Student number    | Email           |\n",
    "| :------------: | :---------------: | :-------------: | \n",
    "| [name] |       [student number]    |    [email]      |\n",
    "\n",
    "Please fill your credentials in the table above by double clicking on the text and replacing the current text in brackets by your own name, student number and email. \n",
    "\n",
    "By submitting this assignment you consent to the University's rules regarding plagiarism and cheating. In particular, sharing code with any students outside your group is strictly prohibited. Any suspected instances will be reported to the Board of Examiners.  "
   ]
  },
  {
   "cell_type": "markdown",
   "metadata": {},
   "source": [
    "# Part 1. Convergence Arbitrage in the Sovereign CDS Market"
   ]
  },
  {
   "cell_type": "markdown",
   "metadata": {},
   "source": [
    "**Objective:** Quant funds often try to identify convergence arbitrage opportunities by first establishling a relationship between two or more securities' prices that has been reasonably persistent historically. If the securties' prices deviate from this relationship, then the quant fund opens a trading strategy to attempt to profit from the prices' eventual convergence. \n",
    "\n",
    "In this section, you will examine historical data on the basis relationship between firms' bond yields and CDS spreads. You will write a program that can search across firms and identify deviations from a stable historical relationship.\n",
    "\n",
    "**Getting started**: You need the output file from Step #1 of Homework 3, which has been posted on Canvas under the name output_file_hw3_step1.txt. It is easier to use Pandas to complete this part of the assignment, but you can also read through the files line by line if you prefer.\n",
    "\n",
    "**To Complete:**\n",
    "- Fill in all code boxes \n",
    "- Fill in all answer boxes below.\n",
    "- Submit the output file created in **Step 1(b)**.  "
   ]
  },
  {
   "cell_type": "markdown",
   "metadata": {},
   "source": [
    "**Step 1(a)**    \n",
    "Open the output_file_hw3_step1.txt dataset, and restrict it to observations before July 1, 2008. For each firm in the dataset, calculate the median basis deviation across all days, as well as the 25th percentile and 75th percentile of the basis deviation. Store this information, in either a text file or Pandas data frame. \n",
    "\n",
    "**Note:** The data you store should include the *gvkey*, median basis deviation, and 25th and 75th percentiles of the basis deviation. There should be one row per firm. "
   ]
  },
  {
   "cell_type": "code",
   "execution_count": null,
   "metadata": {},
   "outputs": [],
   "source": [
    "## ENTER YOUR CODE IN THIS BOX"
   ]
  },
  {
   "cell_type": "markdown",
   "metadata": {},
   "source": [
    "**Step 1(b)**    \n",
    "Relationships between security prices are historically persistent when the spread in daily deviations is small. One way to measure this is by examining the difference between the 75th and 25th percentiles (a measure of spread called inter-quartile range). This is similar to volatility, but les sensitive to outliers. \n",
    "\n",
    "Using the data stored from **Step 1(a)**, identify all firms for which the difference between the 75th and 25th percentiles is less than 20% of the median. In other words, the ratio (75th percentile of basis deviation - 25th perctile of basis deviation)/(Median of basis deviation) should be less than 0.2. Store just these firms in a text file or data frame. Print out this data and include it as part of your final submission."
   ]
  },
  {
   "cell_type": "code",
   "execution_count": null,
   "metadata": {},
   "outputs": [],
   "source": [
    "## ENTER YOUR CODE IN THIS BOX"
   ]
  },
  {
   "cell_type": "markdown",
   "metadata": {},
   "source": [
    "**Step 1(c)**    \n",
    "Go back to the original output_file_hw3_step1.txt dataset. Restrict it to observations between January 2009 and December 2010, and also to only those firms for which you identified a historical persistant relationship in **Step 1(b)**. Calculate the median basis deviation across all days in 2009 and 2010, as well as the 25th percentile and 75th percentile of the basis deviation.\n",
    "\n",
    "Examine these statistics, and briefly discuss whether some of the firms could pose a good opportunity for a convergence arbitrage. "
   ]
  },
  {
   "cell_type": "code",
   "execution_count": null,
   "metadata": {},
   "outputs": [],
   "source": [
    "## ENTER YOUR CODE IN THIS BOX"
   ]
  },
  {
   "cell_type": "markdown",
   "metadata": {},
   "source": [
    "<div class=\"alert alert-block alert-warning\">\n",
    "Click on this box and type your answer. It is not necessary to fill out any tables.\n",
    "</div>\n"
   ]
  },
  {
   "cell_type": "markdown",
   "metadata": {},
   "source": [
    "**Challenge Exercises**    \n",
    "The below exercises are intended for students who wish to earn a grade above 9,0 on the final assignment (i.e., to earn an A+). They should be possible to complete with the computing knowledge and syntax taught in the course. However, the exercises are more challenging and can take significantly more time.\n",
    "\n",
    "Students who do not attempt the challenge exercises can receive a grade of up to 9,0 on their final assignment. Students who make a serious attempt at the challenge exercises will receive a bonus of up to 1,0 points on the final assignment. The bonus is awarded even to students who do not correctly complete all of the main steps of the final assignment. However, no bonus is awarded to students who do not attempt at least half of the main steps.\n",
    "\n",
    "The exercise for this section is:\n",
    "- 1. Write a function that repeats **Steps 1(a) and 1(b)** above, separately for each year *T* in the dataset. The function should also repeat **Step 1(c)** for year *T+1*. "
   ]
  },
  {
   "cell_type": "code",
   "execution_count": 1,
   "metadata": {},
   "outputs": [],
   "source": [
    "## ENTER YOUR CODE FOR CHALLENGE EXERCISE 1 IN THIS BOX"
   ]
  },
  {
   "cell_type": "markdown",
   "metadata": {},
   "source": [
    "## Part 2. Estimating Fama-MacBeth regressions"
   ]
  },
  {
   "cell_type": "markdown",
   "metadata": {},
   "source": [
    "**Objective:** Fama-MacBeth (1973) is a seminal academic paper because it provided evidence that supported the CAPM model. Subsequent evidence disproved the model, but the statistical technique is still widely used to determine whether certain variables are positively correlated with stock returns. \n",
    "\n",
    "In this section, you are required to calculate firms' CAPM betas and estimate a simple version of the Fama-MacBeth regression. \n",
    "\n",
    "**Getting started**: The datasets crsp_data_hw4.txt and factor_data.txt are necessary to complete this part of the assignment. You should use the Pandas module throughout this part, and will also need the statsmodels module to estimate regressions. \n",
    "\n",
    "**To Complete:**\n",
    "- Fill in all code boxes \n",
    "- Fill in all answer boxes and Table 1 below.\n",
    "- Submit only an output file created in **Step 2(g)**.  "
   ]
  },
  {
   "cell_type": "markdown",
   "metadata": {},
   "source": [
    "**Step 2(a)**     \n",
    "Use the Pandas module to load the entire dataset crsp_data_hw4.txt into a data frame. Create a new data frame that contains only the variables *gvkey*, *date*, and *stock_return*, and only contains monthly observations from January 1965 through December 1969."
   ]
  },
  {
   "cell_type": "code",
   "execution_count": null,
   "metadata": {},
   "outputs": [],
   "source": [
    "## ENTER YOUR CODE IN THIS BOX"
   ]
  },
  {
   "cell_type": "markdown",
   "metadata": {},
   "source": [
    "**Step 2(b)**     \n",
    "Load factor_data.txt into a date frame. Convert all variables in the data frame from percentage to fractional returns. Merge this with the data frame created in **Step 2(a)**. Also, subtract the risk-free rate from each firm's monthly stock return."
   ]
  },
  {
   "cell_type": "code",
   "execution_count": null,
   "metadata": {},
   "outputs": [],
   "source": [
    "## ENTER YOUR CODE IN THIS BOX"
   ]
  },
  {
   "cell_type": "markdown",
   "metadata": {},
   "source": [
    "**Step 2(c)**    \n",
    "For each firm *F*, run a regression of the adjusted monthly stock return on the equity risk premium (*ERP* in factor_data.txt). Create a data frame that stores each firm's *gvkey* and the beta from this regression. \n",
    "\n",
    "**Hint:** You should write a function to complete this step. The code in the pandas_commands_lecture5 notebook should be helpful. "
   ]
  },
  {
   "cell_type": "code",
   "execution_count": null,
   "metadata": {},
   "outputs": [],
   "source": [
    "## ENTER YOUR CODE IN THIS BOX"
   ]
  },
  {
   "cell_type": "markdown",
   "metadata": {},
   "source": [
    "**Step 2(d)**     \n",
    "Calculate the 20th, 40th, 60th, and 80th percentiles of all the betas that are in the data frame created in **Step 2(c)**. Sort all firms in the data frame into one of 5 portfolios, by creating an indicator that equals:\n",
    "- 1 for firms with a beta below the 20th percentile\n",
    "- 2 for firms with a beta above the 20th percentile, but below the 40th percentile\n",
    "- 3 for firms with a beta above the 40th percentile, but below the 60th percentile\n",
    "- 4 for firms with a beta above the 60th percentile, but below the 80th percentile\n",
    "- 5 for firms with a beta above the 80th percentile"
   ]
  },
  {
   "cell_type": "code",
   "execution_count": null,
   "metadata": {},
   "outputs": [],
   "source": [
    "## ENTER YOUR CODE IN THIS BOX"
   ]
  },
  {
   "cell_type": "markdown",
   "metadata": {},
   "source": [
    "**Step 2(e)**     \n",
    "For each of the 5 portfolios, calculate the average beta across all firms in the portfolio. Add this average beta to the data frame created in **Step 2(c)**. This data frame should now contain the gvkey, individual firm's beta, portfolio number, and average portfolio beta."
   ]
  },
  {
   "cell_type": "code",
   "execution_count": null,
   "metadata": {},
   "outputs": [],
   "source": [
    "## ENTER YOUR CODE IN THIS BOX"
   ]
  },
  {
   "cell_type": "markdown",
   "metadata": {},
   "source": [
    "**Step 2(f)**     \n",
    "Go back to the data frame from **Step 2(a)** that contains the entire crsp_data_hw4.txt dataset. Create a new data frame that contains only the variables *gvkey*, *date*, and *stock_return*, and only contains monthly observations from January 1970 through December 1974. Merge this with the data frame from **Step 2(e)** that contains each firm's portfolio number and beta values. "
   ]
  },
  {
   "cell_type": "code",
   "execution_count": null,
   "metadata": {},
   "outputs": [],
   "source": [
    "## ENTER YOUR CODE IN THIS BOX"
   ]
  },
  {
   "cell_type": "markdown",
   "metadata": {},
   "source": [
    "**Step 2(g)**    \n",
    "For each portfolio *P* and month *T*, calculate the average return across all firms in the portfolio. Create a new data frame that contains the average monthly returns for each portfolio. Check that this data frame contains about (5 portfolios x 60 months=) 300 observations. Also, merge into this data frame the average beta for each portfolio *P*, which was calculated in **Step 2(e)**. This data frame should now contain the month, portfolio number, monthly portfolio stock return, and average portfolio beta. Print out this data frame and include it as part of your final submission."
   ]
  },
  {
   "cell_type": "code",
   "execution_count": null,
   "metadata": {},
   "outputs": [],
   "source": [
    "## ENTER YOUR CODE IN THIS BOX"
   ]
  },
  {
   "cell_type": "markdown",
   "metadata": {},
   "source": [
    "**Step 2(h)**    \n",
    "Using the data frame created in **Step 2(g)**, regress the monthly portfolio returns on the average portfolio betas, separately for each year from 1970 through 1974. Enter the regression estimates into the below table. "
   ]
  },
  {
   "cell_type": "code",
   "execution_count": null,
   "metadata": {},
   "outputs": [],
   "source": [
    "## ENTER YOUR CODE IN THIS BOX"
   ]
  },
  {
   "cell_type": "markdown",
   "metadata": {},
   "source": [
    "<div class=\"alert alert-block alert-warning\">\n",
    "Answer by double clicking this window and filling out the table below.\n",
    "    <br><br>\n",
    "\n",
    "**Table 1. Regression Estimates**    \n",
    "    \n",
    "|Year  | Regression Constant         |  P-value of constant      |  Coefficient on portfolio beta      |  P-value of coefficient      | Regression R^2   |\n",
    "|:--------------------------|:-----------------------:|:-------:|:-------:|:-----------------:|:--------------------------:|\n",
    "|1970                       |[answer]                 |[answer] |[answer] |[answer]           |[answer]                    |\n",
    "|1971                       |[answer]                 |[answer] |[answer] |[answer]           |[answer]                    |\n",
    "|1972                       |[answer]                 |[answer] |[answer] |[answer]           |[answer]                    |    \n",
    "|1973                       |[answer]                 |[answer] |[answer] |[answer]           |[answer]                    |    \n",
    "|1974                       |[answer]                 |[answer] |[answer] |[answer]           |[answer]                    |\n",
    "</div>"
   ]
  },
  {
   "cell_type": "markdown",
   "metadata": {},
   "source": [
    "**Step 2(i)**    \n",
    "If the CAPM model is correct, then should the regression coefficient on the average portfolio beta be positive, negative, or 0? Explain briefly. Also, interpret the estimates from Table 1 in **Step 2(h)** and state whether they support the CAPM model."
   ]
  },
  {
   "cell_type": "markdown",
   "metadata": {},
   "source": [
    "<div class=\"alert alert-block alert-warning\">\n",
    "Click on this box and type your answer. It is not necessary to fill out any tables.\n",
    "</div>\n"
   ]
  },
  {
   "cell_type": "markdown",
   "metadata": {},
   "source": [
    "**Challenge Exercises**    \n",
    "The below exercises are intended for students who wish to earn a grade above 9,0 on the final assignment (i.e., to earn an A+). They should be possible to complete with the computing knowledge and syntax taught in the course. However, the exercises are more challenging and can take significantly more time.\n",
    "\n",
    "Students who do not attempt the challenge exercises can receive a grade of up to 9,0 on their final assignment. Students who make a serious attempt at the challenge exercises will receive a bonus of up to 1,0 points on the final assignment. The bonus is awarded even to students who do not correctly complete all of the main steps of the final assignment. However, no bonus is awarded to students who do not attempt at least half of the main steps.\n",
    "\n",
    "The exercises for this section are:\n",
    "- 1. Write a function that repeats each of the above steps, in non-overlapping 5-year windows. In other words, the function should calculate betas using monthly returns from 1970-1974 and estimate the Fama-MacBeth regression from **Step 2(h)** using returns from 1975-1979. Then it should calculate betas over 1975-1979 and estimate the Fama-MacBeth regression over 1980-84, etc.\n",
    "- 2. Before estimating the CAPM regression for each firm in **Step 2(c)**, calculate the firm's number of monthly returns. Skip any firms with fewer than 24 returns. \n",
    "- 3. After estimating each regression in **Step 2(h)**, store just the regression coefficient on the portfolio beta and its p-value. Create a table that contains these estimates for each time period. Also calculate the average of the estimates. Interpret whether the evidence supports or rejects the CAPM model."
   ]
  },
  {
   "cell_type": "code",
   "execution_count": null,
   "metadata": {},
   "outputs": [],
   "source": [
    "## ENTER YOUR CODE FOR CHALLENGE EXERCISE 1 IN THIS BOX. \n",
    "\n",
    "## IF YOU ARE ABLE TO ALSO COMPLETE CHALLENGE EXERCISE 2, INTEGRATE THAT INTO YOUR CODE IN THIS BOX.\n",
    "\n",
    "## OTHERWISE, STUDENTS WHO COMPLETE CHALLENGE EXERCISE 1 BUT NOT CHALLENGE EXERCISE 2 RECEIVE PARTIAL BONUS POINTS. "
   ]
  },
  {
   "cell_type": "markdown",
   "metadata": {},
   "source": [
    "<div class=\"alert alert-block alert-warning\">\n",
    "Click on this box and type your answer to challenge exercise 3. \n",
    "</div>"
   ]
  },
  {
   "cell_type": "markdown",
   "metadata": {},
   "source": [
    "# Part 3. Proposing a stock return factor "
   ]
  },
  {
   "cell_type": "markdown",
   "metadata": {},
   "source": [
    "**Objective:** Academics initially theorized that stock returns are explained only by a firm’s β with the market portfolio, then later determined that firm size and the book equity-market equity ratio also are positively correlated with returns (even after controlling for β). This led to development of the Fama-French 3-Factor model in 1993. Since then, academics and practitioners have conducted a significant amount of research to identify new factors that can further explain the variation in stock returns. \n",
    "\n",
    "When conducted properly, this research should first propose a new variable that may be related to stock returns, based on economic theory and our understanding of how financial markets work. Researchers should then examine whether the variable is positively related to stock returns, after controlling for one or more of the existing factors that have been shown to matter. If evidence is supportive, a new factor can be created based on the proposed variable, and the 3-Factor model can be updated. \n",
    "\n",
    "The purpose of this part of the assignment is to replicate this process, and by doing so to learn how to identify profitable investment opportunities in the stock market.\n",
    "\n",
    "**Getting Started**: To complete this part, you will need the file compustat_data_final_project.txt. This is an expanded version of the original Compustat dataset used in Assignments 4 and 5. It covers the same firms and years, but contains a much wider range of firm fundamental variables. (See legend_compustat.txt for a description of each variable.) You will also need the CRSP dataset crsp_data_hw4.txt that was used earlier. Througout this assignment, you should use the Pandas module.\n",
    "\n",
    "**To Complete:**\n",
    "- Fill in all code boxes\n",
    "- Fill in all answer boxes and Table 2 below.\n",
    "- Submit the output file created in **Step 3(h)**. "
   ]
  },
  {
   "cell_type": "markdown",
   "metadata": {},
   "source": [
    "**Note on writing code:** To streamline the grading process, please use Pandas throughout this part of the assignment. "
   ]
  },
  {
   "cell_type": "markdown",
   "metadata": {},
   "source": [
    "**Step 3(a)**     \n",
    "Browse through the compustat_data_final_project.txt dataset. Identify one variable that you think could be positively correlated with excess stock returns, and thus could serve as the basis for a new stock return factor. In other words, firms with a higher value of your variable should also have higher values for the alpha from the Fama-French 3-Factor model. Justify your choice of the variable in 1-2 paragraphs.\n",
    "\n",
    "**Note:** Your proposed variable can be a single column from compustat_data_final_project.txt, or created from a combination of columns."
   ]
  },
  {
   "cell_type": "markdown",
   "metadata": {},
   "source": [
    "<div class=\"alert alert-block alert-warning\">\n",
    "Click on this box and type your answer. It is not necessary to fill out any tables.\n",
    "</div>"
   ]
  },
  {
   "cell_type": "markdown",
   "metadata": {},
   "source": [
    "**Step 3(b)**    \n",
    "Recall that the *SMB* and *HML* factors are created from a firm's underlying financial characteristics (its market capitalization and book equity/market equity values, respectively). When constructing a factor, do you think that the process can work better when the underlying characteristic is a continuous variable or a binary indicator variable? Or, do continuous and binary variables work equally well? (A binary indicator is a variable that takes a 0 or 1 value for all firms.) Explain in one paragraph. In your answer, discuss whether you chose to use a continuous or binary underlying variable in **Step 3(a)**. "
   ]
  },
  {
   "cell_type": "markdown",
   "metadata": {},
   "source": [
    "<div class=\"alert alert-block alert-warning\">\n",
    "Click on this box and type your answer. It is not necessary to fill out any tables.\n",
    "</div>"
   ]
  },
  {
   "cell_type": "markdown",
   "metadata": {},
   "source": [
    "**Step 3(c)**    \n",
    "Use Pandas to load the full compustat_data_final_project.txt into a data frame. Drop financial and utilities firms (SIC industry codes 6000-6999 and 4900-4999, respectively) from the data frame, and also restrict the data frame to years before 1990."
   ]
  },
  {
   "cell_type": "code",
   "execution_count": null,
   "metadata": {},
   "outputs": [],
   "source": [
    "## ENTER YOUR CODE IN THIS BOX"
   ]
  },
  {
   "cell_type": "markdown",
   "metadata": {},
   "source": [
    "**Step 3(d)**    \n",
    "Load crsp_data_hw4.txt into a data frame, and restrict the data frame to years before 1990. Create a new data frame with each firm's *gvkey*, the date (in YYYYMM format), and the stock price. Merge this data frame with the modified Compustat data frame that you created in **Step 3(c)**. During the merge, keep only observations in both data frames. Calculate the market capitalization for each firm *F* and year *T*. Also construct the variable proposed in **Step 3(a)** for each firm *F* and year *T*."
   ]
  },
  {
   "cell_type": "code",
   "execution_count": null,
   "metadata": {},
   "outputs": [],
   "source": [
    "## ENTER YOUR CODE IN THIS BOX"
   ]
  },
  {
   "cell_type": "markdown",
   "metadata": {},
   "source": [
    "**Step 3(e)**    \n",
    "For each firm *F*, merge the market capitalization value and the value of your proposed variable from year *T-1* (from the modified Compustat date frame) with all of firm *F*'s monthly stock returns from year *T* (in the CRSP data frame).  "
   ]
  },
  {
   "cell_type": "code",
   "execution_count": null,
   "metadata": {},
   "outputs": [],
   "source": [
    "## ENTER YOUR CODE IN THIS BOX"
   ]
  },
  {
   "cell_type": "markdown",
   "metadata": {},
   "source": [
    "\n",
    "**Step 3(f)**\n",
    "For each year *T-1* in the modified Compustat data frame, calculate the 20th, 40th, 60th, 80th percentiles of market capitalization across all firms in the year. Also calculate the 20th, 40th, 60th, 80th percentiles of your proposed variable across all firms in the year. Then merge each of these percentile values with all monthly observations from year *T* in the CRSP data frame from **Step 3(e)**. This data frame should now contain all of the CRSP data, each firm's annual market capitalization and value of your proposed variable, and 8 columns with percentile values."
   ]
  },
  {
   "cell_type": "code",
   "execution_count": null,
   "metadata": {},
   "outputs": [],
   "source": [
    "## ENTER YOUR CODE IN THIS BOX"
   ]
  },
  {
   "cell_type": "markdown",
   "metadata": {},
   "source": [
    "**Step 3(g)**    \n",
    "For each month in the data frame from **Step 3(f)**, sort firms into one of 25 portfolios: \n",
    "- Portfolio 1, values of market capitalization and your proposed variable are both below the 20th percentile \n",
    "- Portfolio 2, value of market capitalization is below the 20th percentile, value of your proposed variable is between the 20th and 40th percentile\n",
    "\n",
    "...\n",
    "- Portfolio 5, value of market capitalization is below the 20th percentile, value of your proposed variable is above the 80th percentile\n",
    "- Portfolio 6, value of market capitalization is between the 20th and 40th percentile, value of your proposed variable is below the 20th percentile\n",
    "- Portfolio 7, value of market capitalization is between the 20th and 40th percentile, value of your proposed variable is between the 20th and 40th percentile\n",
    "\n",
    "...\n",
    "- Portfolio 10, value of market capitalization is between the 20th and 40th percentile, value of your proposed variable is above the 80th percentile\n",
    "- Portfolio 11, value of market capitalization is between the 40th and 60th percentile, value of your proposed variable is below the 20th percentile\n",
    "\n",
    "...\n",
    "- Portfolio 25, values of market capitalization and your proposed variable are both above the 80th percentile \n",
    "\n",
    "Create a new column in the data frame that contains the portfolio number (from 1-25) for each observation."
   ]
  },
  {
   "cell_type": "code",
   "execution_count": null,
   "metadata": {},
   "outputs": [],
   "source": [
    "## ENTER YOUR CODE IN THIS BOX"
   ]
  },
  {
   "cell_type": "markdown",
   "metadata": {},
   "source": [
    "**Step 3(h)**    \n",
    "For each month *T* and portfolio *P*, calculate the average stock return across all firms in the portfolio. Combine all of the portfolio returns into a single data frame. This data frame should contain the month, portfolio number (from 1-25), and the portfolio return. Check that it has about (27 years x 12 months=) 324 rows. Print out this data frame and include it as part of your final submission. "
   ]
  },
  {
   "cell_type": "code",
   "execution_count": null,
   "metadata": {},
   "outputs": [],
   "source": [
    "## ENTER YOUR CODE IN THIS BOX"
   ]
  },
  {
   "cell_type": "markdown",
   "metadata": {},
   "source": [
    "**Step 3(i)**    \n",
    "For each of the 25 portfolios, calculate the average return across all months in the data frame. Enter these averaged returns in the table below. "
   ]
  },
  {
   "cell_type": "code",
   "execution_count": null,
   "metadata": {},
   "outputs": [],
   "source": [
    "## ENTER YOUR CODE IN THIS BOX"
   ]
  },
  {
   "cell_type": "markdown",
   "metadata": {},
   "source": [
    "<div class=\"alert alert-block alert-warning\">\n",
    "Answer by double clicking this window and filling out the cells in the table below. In that table, [Portfolio N] refers to the average return of Portfolio N across all months in the data frame.\n",
    "    <br><br>\n",
    "\n",
    "**Table 2. Average Portfolio Returns from 1963--1989**    \n",
    "    \n",
    "| Quintile of Size \\ Proposed Variable  | 1 = Lowest Proposed        |  2            |  3            |  4            | 5 = Highest Proposed            | Diff., Highest - Lowest   |\n",
    "|:--------------------------------------|:--------------------------:|:-------------:|:-------------:|:------------:|:-------------------------------:|:-------------------------:|\n",
    "|1 = Smallest Size                      |[Portfolio 1]               |[Portfolio 2]  |[Portfolio 3]  |[Portfolio 4] |[Portfolio 5]                    |[answer]                   |\n",
    "|2                                      |[Portfolio 6]               |[Portfolio 7]  |[Portfolio 8]  |[Portfolio 9] |[Portfolio 10]                   |[answer]                   |\n",
    "|3                                      |[Portfolio 11]              |[Portfolio 12] |[Portfolio 13] |[Portfolio 14] |[Portfolio 15]                   |[answer]                   |   \n",
    "|4                                      |[Portfolio 16]              |[Portfolio 17] |[Portfolio 18] |[Portfolio 19] |[Portfolio 20]                   |[answer]                   |   \n",
    "|5 = Largest Size                       |[Portfolio 21]              |[Portfolio 22] |[Portfolio 23] |[Portfolio 24] |[Portfolio 25]                   |[answer]                   | \n",
    "|Diff., Smallest - Largest  |[answer]                 |[answer] |[answer] |[answer] |[answer]           |                   |  \n",
    "    \n",
    "</div>"
   ]
  },
  {
   "cell_type": "markdown",
   "metadata": {},
   "source": [
    "**Step 3(j)**    \n",
    "Explain in one paragraph what is the purpose of sorting the data by your proposed variable and by firm size. As part of your answer, explain why it is wrong to just sort firms by values of your proposed variable, and check whether portfolios with higher values also have higher returns.\n",
    "\n",
    "In a separate paragraph, interpret the results from Table 2. Does the evidence suggest that your proposed variable could be a priced factor and therefore should be added to the Fama-French 3-Factor model?"
   ]
  },
  {
   "cell_type": "markdown",
   "metadata": {},
   "source": [
    "<div class=\"alert alert-block alert-warning\">\n",
    "Click on this box and type your answer. It is not necessary to fill out any tables.\n",
    "</div>"
   ]
  },
  {
   "cell_type": "markdown",
   "metadata": {},
   "source": [
    "**Challenge Exercises**    \n",
    "The below exercises are intended for students who wish to earn a grade above 9,0 on the final assignment (i.e., to earn an A+). They should be possible to complete with the computing knowledge and syntax taught in the course. However, the exercises are more challenging and can take significantly more time.\n",
    "\n",
    "Students who do not attempt the challenge exercises can receive a grade of up to 9,0 on their final assignment. Students who make a serious attempt at the challenge exercises will receive a bonus of up to 1,0 points on the final assignment. The bonus is awarded even to students who do not correctly complete all of the main steps of the final assignment. However, no bonus is awarded to students who do not attempt at least half of the main steps.\n",
    "\n",
    "The exercises for this section are:\n",
    "- 1. Construct a factor based on your proposed variable. You are free to choose exactly how the factor is constructed, but briefly justify your choice. Make sure that the factor is expressed as a monthly return (i.e., it should equal the difference in average stock returns betwen firms with high and low values of your proposed variable). **Note:** Use the same proposed variable as in all steps above, even if the evidence in **Step 3(i)** suggests it may not work as a factor.  \n",
    "- 2. Merge your factor into factor_data.txt. Estimate a 4-factor model, using the same 6 portfolios as in pandas_commands_lecture5 notebook (from the file portfolio_returns6.txt). You only need to estimate this for years when your factor is available, i.e., before 1990. Provide a summary of the estimates, and briefly state whether your 4-factor model appears to work better than the 3-factor model.\n",
    "- 3. Now use only the 3 standard factors from factor_data.txt, but create at least 4 non-linear variables based on these factors (e.g., you can multiply the factors by each other or take the square/cube of each factor). Estimate four different factor regressions, using all months from 1965 through 1990. Each regression should include the original 3 factors, plus at least one of the non-linear variables. Provide a summary of the estimates. Then, choose the regression model that works best, and re-esimate this model using all months from 1991 onward. Briefly explain whether the model you chose works well out of sample."
   ]
  },
  {
   "cell_type": "code",
   "execution_count": null,
   "metadata": {},
   "outputs": [],
   "source": [
    "## ENTER YOUR CODE FOR CHALLENGE EXERCISE 1 IN THIS BOX"
   ]
  },
  {
   "cell_type": "code",
   "execution_count": null,
   "metadata": {},
   "outputs": [],
   "source": [
    "## ENTER YOUR CODE FOR CHALLENGE EXERCISE 2 IN THIS BOX"
   ]
  },
  {
   "cell_type": "code",
   "execution_count": null,
   "metadata": {},
   "outputs": [],
   "source": [
    "## ENTER YOUR CODE FOR CHALLENGE EXERCISE 3 IN THIS BOX"
   ]
  }
 ],
 "metadata": {
  "kernelspec": {
   "display_name": "Python 3",
   "language": "python",
   "name": "python3"
  },
  "language_info": {
   "codemirror_mode": {
    "name": "ipython",
    "version": 3
   },
   "file_extension": ".py",
   "mimetype": "text/x-python",
   "name": "python",
   "nbconvert_exporter": "python",
   "pygments_lexer": "ipython3",
   "version": "3.8.8"
  }
 },
 "nbformat": 4,
 "nbformat_minor": 2
}
