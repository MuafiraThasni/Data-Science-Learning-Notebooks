{
 "cells": [
  {
   "cell_type": "code",
   "execution_count": 10,
   "id": "fb96b113",
   "metadata": {},
   "outputs": [],
   "source": [
    "import pandas as pd\n",
    "import numpy as np\n",
    "from numpy.random import seed\n",
    "from numpy.random import rand\n",
    "from sklearn.ensemble import RandomForestRegressor"
   ]
  },
  {
   "cell_type": "code",
   "execution_count": 6,
   "id": "642c51af",
   "metadata": {},
   "outputs": [
    {
     "data": {
      "text/html": [
       "<div>\n",
       "<style scoped>\n",
       "    .dataframe tbody tr th:only-of-type {\n",
       "        vertical-align: middle;\n",
       "    }\n",
       "\n",
       "    .dataframe tbody tr th {\n",
       "        vertical-align: top;\n",
       "    }\n",
       "\n",
       "    .dataframe thead th {\n",
       "        text-align: right;\n",
       "    }\n",
       "</style>\n",
       "<table border=\"1\" class=\"dataframe\">\n",
       "  <thead>\n",
       "    <tr style=\"text-align: right;\">\n",
       "      <th></th>\n",
       "      <th>x1</th>\n",
       "      <th>x2</th>\n",
       "      <th>x3</th>\n",
       "      <th>y</th>\n",
       "    </tr>\n",
       "  </thead>\n",
       "  <tbody>\n",
       "    <tr>\n",
       "      <th>0</th>\n",
       "      <td>0.417022</td>\n",
       "      <td>0.098347</td>\n",
       "      <td>0.102334</td>\n",
       "      <td>0.114746</td>\n",
       "    </tr>\n",
       "    <tr>\n",
       "      <th>1</th>\n",
       "      <td>0.720324</td>\n",
       "      <td>0.421108</td>\n",
       "      <td>0.414056</td>\n",
       "      <td>0.949489</td>\n",
       "    </tr>\n",
       "    <tr>\n",
       "      <th>2</th>\n",
       "      <td>0.000114</td>\n",
       "      <td>0.957890</td>\n",
       "      <td>0.694400</td>\n",
       "      <td>0.449912</td>\n",
       "    </tr>\n",
       "    <tr>\n",
       "      <th>3</th>\n",
       "      <td>0.302333</td>\n",
       "      <td>0.533165</td>\n",
       "      <td>0.414179</td>\n",
       "      <td>0.578390</td>\n",
       "    </tr>\n",
       "    <tr>\n",
       "      <th>4</th>\n",
       "      <td>0.146756</td>\n",
       "      <td>0.691877</td>\n",
       "      <td>0.049953</td>\n",
       "      <td>0.408137</td>\n",
       "    </tr>\n",
       "  </tbody>\n",
       "</table>\n",
       "</div>"
      ],
      "text/plain": [
       "         x1        x2        x3         y\n",
       "0  0.417022  0.098347  0.102334  0.114746\n",
       "1  0.720324  0.421108  0.414056  0.949489\n",
       "2  0.000114  0.957890  0.694400  0.449912\n",
       "3  0.302333  0.533165  0.414179  0.578390\n",
       "4  0.146756  0.691877  0.049953  0.408137"
      ]
     },
     "execution_count": 6,
     "metadata": {},
     "output_type": "execute_result"
    }
   ],
   "source": [
    "seed(1)\n",
    "x1=rand(30)\n",
    "x2=rand(30)\n",
    "x3=rand(30)\n",
    "y=rand(30)\n",
    "df=pd.DataFrame({'x1':x1,'x2':x2,'x3':x3,'y':y})\n",
    "df.head()"
   ]
  },
  {
   "cell_type": "code",
   "execution_count": 17,
   "id": "4ce8db96",
   "metadata": {},
   "outputs": [
    {
     "name": "stdout",
     "output_type": "stream",
     "text": [
      "y_prediction = [0.39856678 0.80130342 0.47786806 0.64507665 0.46378494 0.42700734\n",
      " 0.74226147 0.54198226 0.20988588 0.53366986 0.29059373 0.50735332\n",
      " 0.79307748 0.3117599  0.84578807 0.62728363 0.18428943 0.86308592\n",
      " 0.7318708  0.94119434 0.24414981 0.21344581 0.8601649  0.77820164\n",
      " 0.28638148 0.53010663 0.66722654 0.78153963 0.71554605 0.17200023]\n",
      "Coefficient of determination = 0.8584600888099783\n"
     ]
    },
    {
     "data": {
      "text/html": [
       "<div>\n",
       "<style scoped>\n",
       "    .dataframe tbody tr th:only-of-type {\n",
       "        vertical-align: middle;\n",
       "    }\n",
       "\n",
       "    .dataframe tbody tr th {\n",
       "        vertical-align: top;\n",
       "    }\n",
       "\n",
       "    .dataframe thead th {\n",
       "        text-align: right;\n",
       "    }\n",
       "</style>\n",
       "<table border=\"1\" class=\"dataframe\">\n",
       "  <thead>\n",
       "    <tr style=\"text-align: right;\">\n",
       "      <th></th>\n",
       "      <th>x1</th>\n",
       "      <th>x2</th>\n",
       "      <th>x3</th>\n",
       "      <th>y</th>\n",
       "      <th>y_pred</th>\n",
       "    </tr>\n",
       "  </thead>\n",
       "  <tbody>\n",
       "    <tr>\n",
       "      <th>0</th>\n",
       "      <td>0.417022</td>\n",
       "      <td>0.098347</td>\n",
       "      <td>0.102334</td>\n",
       "      <td>0.114746</td>\n",
       "      <td>0.398567</td>\n",
       "    </tr>\n",
       "    <tr>\n",
       "      <th>1</th>\n",
       "      <td>0.720324</td>\n",
       "      <td>0.421108</td>\n",
       "      <td>0.414056</td>\n",
       "      <td>0.949489</td>\n",
       "      <td>0.801303</td>\n",
       "    </tr>\n",
       "    <tr>\n",
       "      <th>2</th>\n",
       "      <td>0.000114</td>\n",
       "      <td>0.957890</td>\n",
       "      <td>0.694400</td>\n",
       "      <td>0.449912</td>\n",
       "      <td>0.477868</td>\n",
       "    </tr>\n",
       "    <tr>\n",
       "      <th>3</th>\n",
       "      <td>0.302333</td>\n",
       "      <td>0.533165</td>\n",
       "      <td>0.414179</td>\n",
       "      <td>0.578390</td>\n",
       "      <td>0.645077</td>\n",
       "    </tr>\n",
       "    <tr>\n",
       "      <th>4</th>\n",
       "      <td>0.146756</td>\n",
       "      <td>0.691877</td>\n",
       "      <td>0.049953</td>\n",
       "      <td>0.408137</td>\n",
       "      <td>0.463785</td>\n",
       "    </tr>\n",
       "  </tbody>\n",
       "</table>\n",
       "</div>"
      ],
      "text/plain": [
       "         x1        x2        x3         y    y_pred\n",
       "0  0.417022  0.098347  0.102334  0.114746  0.398567\n",
       "1  0.720324  0.421108  0.414056  0.949489  0.801303\n",
       "2  0.000114  0.957890  0.694400  0.449912  0.477868\n",
       "3  0.302333  0.533165  0.414179  0.578390  0.645077\n",
       "4  0.146756  0.691877  0.049953  0.408137  0.463785"
      ]
     },
     "execution_count": 17,
     "metadata": {},
     "output_type": "execute_result"
    }
   ],
   "source": [
    "x=df[['x1','x2','x3']]\n",
    "y=df['y']\n",
    "\n",
    "#model\n",
    "model=RandomForestRegressor()\n",
    "model.n_estimator=150\n",
    "model.fit(x,y)\n",
    "y_pred = model.predict(x)\n",
    "R2=model.score(x,y)\n",
    "print(\"y_prediction =\",y_pred)\n",
    "print(\"Coefficient of determination =\",R2)\n",
    "df['y_pred']=y_pred\n",
    "df.head()"
   ]
  },
  {
   "cell_type": "code",
   "execution_count": 23,
   "id": "bc342e08",
   "metadata": {},
   "outputs": [
    {
     "data": {
      "text/plain": [
       "0.014323014317824758"
      ]
     },
     "execution_count": 23,
     "metadata": {},
     "output_type": "execute_result"
    }
   ],
   "source": [
    "SE=((df['y_pred']-df['y'])**2)\n",
    "MSE=SE.mean()\n",
    "MSE"
   ]
  },
  {
   "cell_type": "markdown",
   "id": "2e6e7a91",
   "metadata": {},
   "source": []
  }
 ],
 "metadata": {
  "kernelspec": {
   "display_name": "Python 3",
   "language": "python",
   "name": "python3"
  },
  "language_info": {
   "codemirror_mode": {
    "name": "ipython",
    "version": 3
   },
   "file_extension": ".py",
   "mimetype": "text/x-python",
   "name": "python",
   "nbconvert_exporter": "python",
   "pygments_lexer": "ipython3",
   "version": "3.8.8"
  }
 },
 "nbformat": 4,
 "nbformat_minor": 5
}
